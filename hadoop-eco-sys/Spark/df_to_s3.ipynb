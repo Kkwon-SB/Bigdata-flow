{
 "cells": [
  {
   "cell_type": "code",
   "execution_count": 51,
   "id": "94076ffc",
   "metadata": {
    "collapsed": true
   },
   "outputs": [
    {
     "name": "stdout",
     "output_type": "stream",
     "text": [
      "Collecting s3fs\n",
      "  Downloading s3fs-2022.8.2-py3-none-any.whl (27 kB)\n",
      "Requirement already satisfied: fsspec==2022.8.2 in ./.local/lib/python3.8/site-packages (from s3fs) (2022.8.2)\n",
      "Collecting aiobotocore~=2.4.0\n",
      "  Downloading aiobotocore-2.4.0-py3-none-any.whl (65 kB)\n",
      "\u001b[K     |████████████████████████████████| 65 kB 4.2 MB/s  eta 0:00:01\n",
      "\u001b[?25hCollecting aiohttp!=4.0.0a0,!=4.0.0a1\n",
      "  Downloading aiohttp-3.8.3-cp38-cp38-manylinux_2_17_x86_64.manylinux2014_x86_64.whl (1.0 MB)\n",
      "\u001b[K     |████████████████████████████████| 1.0 MB 25.7 MB/s eta 0:00:01\n",
      "\u001b[?25hCollecting botocore<1.27.60,>=1.27.59\n",
      "  Downloading botocore-1.27.59-py3-none-any.whl (9.1 MB)\n",
      "\u001b[K     |████████████████████████████████| 9.1 MB 30.7 MB/s eta 0:00:01     |████████████████████▏           | 5.7 MB 30.7 MB/s eta 0:00:01\n",
      "\u001b[?25hCollecting aioitertools>=0.5.1\n",
      "  Downloading aioitertools-0.11.0-py3-none-any.whl (23 kB)\n",
      "Collecting wrapt>=1.10.10\n",
      "  Downloading wrapt-1.14.1-cp38-cp38-manylinux_2_5_x86_64.manylinux1_x86_64.manylinux_2_17_x86_64.manylinux2014_x86_64.whl (81 kB)\n",
      "\u001b[K     |████████████████████████████████| 81 kB 12.3 MB/s eta 0:00:01\n",
      "\u001b[?25hCollecting charset-normalizer<3.0,>=2.0\n",
      "  Downloading charset_normalizer-2.1.1-py3-none-any.whl (39 kB)\n",
      "Collecting async-timeout<5.0,>=4.0.0a3\n",
      "  Downloading async_timeout-4.0.2-py3-none-any.whl (5.8 kB)\n",
      "Collecting frozenlist>=1.1.1\n",
      "  Downloading frozenlist-1.3.1-cp38-cp38-manylinux_2_5_x86_64.manylinux1_x86_64.manylinux_2_17_x86_64.manylinux2014_x86_64.whl (161 kB)\n",
      "\u001b[K     |████████████████████████████████| 161 kB 32.5 MB/s eta 0:00:01\n",
      "\u001b[?25hRequirement already satisfied: attrs>=17.3.0 in /usr/lib/python3/dist-packages (from aiohttp!=4.0.0a0,!=4.0.0a1->s3fs) (19.3.0)\n",
      "Collecting multidict<7.0,>=4.5\n",
      "  Downloading multidict-6.0.2-cp38-cp38-manylinux_2_17_x86_64.manylinux2014_x86_64.whl (121 kB)\n",
      "\u001b[K     |████████████████████████████████| 121 kB 47.0 MB/s eta 0:00:01\n",
      "\u001b[?25hCollecting aiosignal>=1.1.2\n",
      "  Downloading aiosignal-1.2.0-py3-none-any.whl (8.2 kB)\n",
      "Collecting yarl<2.0,>=1.0\n",
      "  Downloading yarl-1.8.1-cp38-cp38-manylinux_2_17_x86_64.manylinux2014_x86_64.whl (262 kB)\n",
      "\u001b[K     |████████████████████████████████| 262 kB 46.9 MB/s eta 0:00:01\n",
      "\u001b[?25hRequirement already satisfied: python-dateutil<3.0.0,>=2.1 in ./.local/lib/python3.8/site-packages (from botocore<1.27.60,>=1.27.59->aiobotocore~=2.4.0->s3fs) (2.8.2)\n",
      "Requirement already satisfied: urllib3<1.27,>=1.25.4 in /usr/lib/python3/dist-packages (from botocore<1.27.60,>=1.27.59->aiobotocore~=2.4.0->s3fs) (1.25.8)\n",
      "Requirement already satisfied: jmespath<2.0.0,>=0.7.1 in /usr/lib/python3/dist-packages (from botocore<1.27.60,>=1.27.59->aiobotocore~=2.4.0->s3fs) (0.9.4)\n",
      "Collecting typing_extensions>=4.0; python_version < \"3.10\"\n",
      "  Downloading typing_extensions-4.4.0-py3-none-any.whl (26 kB)\n",
      "Requirement already satisfied: idna>=2.0 in /usr/lib/python3/dist-packages (from yarl<2.0,>=1.0->aiohttp!=4.0.0a0,!=4.0.0a1->s3fs) (2.8)\n",
      "Requirement already satisfied: six>=1.5 in /usr/lib/python3/dist-packages (from python-dateutil<3.0.0,>=2.1->botocore<1.27.60,>=1.27.59->aiobotocore~=2.4.0->s3fs) (1.14.0)\n",
      "Installing collected packages: botocore, charset-normalizer, async-timeout, frozenlist, multidict, aiosignal, yarl, aiohttp, typing-extensions, aioitertools, wrapt, aiobotocore, s3fs\n",
      "Successfully installed aiobotocore-2.4.0 aiohttp-3.8.3 aioitertools-0.11.0 aiosignal-1.2.0 async-timeout-4.0.2 botocore-1.27.59 charset-normalizer-2.1.1 frozenlist-1.3.1 multidict-6.0.2 s3fs-2022.8.2 typing-extensions-4.4.0 wrapt-1.14.1 yarl-1.8.1\n"
     ]
    }
   ],
   "source": [
    "#!pip3 install s3fs --user"
   ]
  },
  {
   "cell_type": "code",
   "execution_count": 1,
   "id": "74aa67b1",
   "metadata": {},
   "outputs": [],
   "source": [
    "import pandas as pd\n",
    "import numpy as np\n",
    "import matplotlib.pyplot as plt"
   ]
  },
  {
   "cell_type": "code",
   "execution_count": 2,
   "id": "14e5c1f4",
   "metadata": {},
   "outputs": [],
   "source": [
    "import findspark\n",
    "findspark.init()"
   ]
  },
  {
   "cell_type": "code",
   "execution_count": 3,
   "id": "75c11985",
   "metadata": {},
   "outputs": [
    {
     "name": "stderr",
     "output_type": "stream",
     "text": [
      "Setting default log level to \"WARN\".\n",
      "To adjust logging level use sc.setLogLevel(newLevel). For SparkR, use setLogLevel(newLevel).\n",
      "2022-10-13 16:09:08,304 WARN util.NativeCodeLoader: Unable to load native-hadoop library for your platform... using builtin-java classes where applicable\n",
      "2022-10-13 16:09:13,858 WARN yarn.Client: Neither spark.yarn.jars nor spark.yarn.archive is set, falling back to uploading libraries under SPARK_HOME.\n"
     ]
    }
   ],
   "source": [
    "import pyspark\n",
    "from pyspark.sql import SparkSession\n",
    "\n",
    "spark = SparkSession.builder.getOrCreate()"
   ]
  },
  {
   "cell_type": "code",
   "execution_count": 4,
   "id": "71d5496a",
   "metadata": {},
   "outputs": [
    {
     "name": "stderr",
     "output_type": "stream",
     "text": [
      "                                                                                \r"
     ]
    }
   ],
   "source": [
    "data = spark.read.csv(\"hdfs:///user/ubuntu/data_year_month/2009/01/01.csv\", )"
   ]
  },
  {
   "cell_type": "code",
   "execution_count": 5,
   "id": "c71a413f",
   "metadata": {},
   "outputs": [
    {
     "name": "stdout",
     "output_type": "stream",
     "text": [
      "+--------------------+----+--------------------+----------+---------+----------+---------+---+\n",
      "|                 _c0| _c1|                 _c2|       _c3|      _c4|       _c5|      _c6|_c7|\n",
      "+--------------------+----+--------------------+----------+---------+----------+---------+---+\n",
      "|2009-01-09 16:10:...|31.9|2009-01-09 16:10:...|-73.873027|40.773883|-73.984545|40.769545|  3|\n",
      "|2009-01-09 15:01:...| 5.7|2009-01-09 15:01:...|-73.992826|40.751271|-73.982786|40.742432|  1|\n",
      "|2009-01-25 18:41:...| 6.1|2009-01-25 18:41:...|-74.000122| 40.74308| -74.00615|40.734233|  5|\n",
      "|2009-01-16 21:10:...| 4.5|2009-01-16 21:10:...|-73.994143|40.751193|-73.988897|40.759742|  1|\n",
      "|2009-01-24 09:51:...| 5.3|2009-01-24 09:51:...| -73.96707|40.769178|-73.954895| 40.77821|  1|\n",
      "+--------------------+----+--------------------+----------+---------+----------+---------+---+\n",
      "only showing top 5 rows\n",
      "\n"
     ]
    }
   ],
   "source": [
    "data.show(5)"
   ]
  },
  {
   "cell_type": "code",
   "execution_count": 6,
   "id": "44fcabda",
   "metadata": {},
   "outputs": [
    {
     "data": {
      "text/plain": [
       "pyspark.sql.dataframe.DataFrame"
      ]
     },
     "execution_count": 6,
     "metadata": {},
     "output_type": "execute_result"
    }
   ],
   "source": [
    "type(data)"
   ]
  },
  {
   "cell_type": "code",
   "execution_count": 7,
   "id": "e6402730",
   "metadata": {},
   "outputs": [],
   "source": [
    "# data가 너무 크니 1000개로 자르기\n",
    "little_data = data.limit(10000)"
   ]
  },
  {
   "cell_type": "code",
   "execution_count": 8,
   "id": "05155358",
   "metadata": {},
   "outputs": [
    {
     "data": {
      "text/html": [
       "<div>\n",
       "<style scoped>\n",
       "    .dataframe tbody tr th:only-of-type {\n",
       "        vertical-align: middle;\n",
       "    }\n",
       "\n",
       "    .dataframe tbody tr th {\n",
       "        vertical-align: top;\n",
       "    }\n",
       "\n",
       "    .dataframe thead th {\n",
       "        text-align: right;\n",
       "    }\n",
       "</style>\n",
       "<table border=\"1\" class=\"dataframe\">\n",
       "  <thead>\n",
       "    <tr style=\"text-align: right;\">\n",
       "      <th></th>\n",
       "      <th>_c0</th>\n",
       "      <th>_c1</th>\n",
       "      <th>_c2</th>\n",
       "      <th>_c3</th>\n",
       "      <th>_c4</th>\n",
       "      <th>_c5</th>\n",
       "      <th>_c6</th>\n",
       "      <th>_c7</th>\n",
       "    </tr>\n",
       "  </thead>\n",
       "  <tbody>\n",
       "    <tr>\n",
       "      <th>0</th>\n",
       "      <td>2009-01-09 16:10:00.000000170</td>\n",
       "      <td>31.9</td>\n",
       "      <td>2009-01-09 16:10:00 UTC</td>\n",
       "      <td>-73.873027</td>\n",
       "      <td>40.773883</td>\n",
       "      <td>-73.984545</td>\n",
       "      <td>40.769545</td>\n",
       "      <td>3</td>\n",
       "    </tr>\n",
       "    <tr>\n",
       "      <th>1</th>\n",
       "      <td>2009-01-09 15:01:20.0000002</td>\n",
       "      <td>5.7</td>\n",
       "      <td>2009-01-09 15:01:20 UTC</td>\n",
       "      <td>-73.992826</td>\n",
       "      <td>40.751271</td>\n",
       "      <td>-73.982786</td>\n",
       "      <td>40.742432</td>\n",
       "      <td>1</td>\n",
       "    </tr>\n",
       "    <tr>\n",
       "      <th>2</th>\n",
       "      <td>2009-01-25 18:41:00.000000193</td>\n",
       "      <td>6.1</td>\n",
       "      <td>2009-01-25 18:41:00 UTC</td>\n",
       "      <td>-74.000122</td>\n",
       "      <td>40.74308</td>\n",
       "      <td>-74.00615</td>\n",
       "      <td>40.734233</td>\n",
       "      <td>5</td>\n",
       "    </tr>\n",
       "    <tr>\n",
       "      <th>3</th>\n",
       "      <td>2009-01-16 21:10:00.00000056</td>\n",
       "      <td>4.5</td>\n",
       "      <td>2009-01-16 21:10:00 UTC</td>\n",
       "      <td>-73.994143</td>\n",
       "      <td>40.751193</td>\n",
       "      <td>-73.988897</td>\n",
       "      <td>40.759742</td>\n",
       "      <td>1</td>\n",
       "    </tr>\n",
       "    <tr>\n",
       "      <th>4</th>\n",
       "      <td>2009-01-24 09:51:00.000000115</td>\n",
       "      <td>5.3</td>\n",
       "      <td>2009-01-24 09:51:00 UTC</td>\n",
       "      <td>-73.96707</td>\n",
       "      <td>40.769178</td>\n",
       "      <td>-73.954895</td>\n",
       "      <td>40.77821</td>\n",
       "      <td>1</td>\n",
       "    </tr>\n",
       "  </tbody>\n",
       "</table>\n",
       "</div>"
      ],
      "text/plain": [
       "                             _c0   _c1                      _c2         _c3  \\\n",
       "0  2009-01-09 16:10:00.000000170  31.9  2009-01-09 16:10:00 UTC  -73.873027   \n",
       "1    2009-01-09 15:01:20.0000002   5.7  2009-01-09 15:01:20 UTC  -73.992826   \n",
       "2  2009-01-25 18:41:00.000000193   6.1  2009-01-25 18:41:00 UTC  -74.000122   \n",
       "3   2009-01-16 21:10:00.00000056   4.5  2009-01-16 21:10:00 UTC  -73.994143   \n",
       "4  2009-01-24 09:51:00.000000115   5.3  2009-01-24 09:51:00 UTC   -73.96707   \n",
       "\n",
       "         _c4         _c5        _c6 _c7  \n",
       "0  40.773883  -73.984545  40.769545   3  \n",
       "1  40.751271  -73.982786  40.742432   1  \n",
       "2   40.74308   -74.00615  40.734233   5  \n",
       "3  40.751193  -73.988897  40.759742   1  \n",
       "4  40.769178  -73.954895   40.77821   1  "
      ]
     },
     "execution_count": 8,
     "metadata": {},
     "output_type": "execute_result"
    }
   ],
   "source": [
    "# pyspark.sql.dataframe.DataFrame to Pandas df\n",
    "df = little_data.toPandas()\n",
    "df.head()"
   ]
  },
  {
   "cell_type": "code",
   "execution_count": 9,
   "id": "7b1a264f",
   "metadata": {},
   "outputs": [],
   "source": [
    "column_list =  [\"key\",\"fare_amount\",\"pickup_datetime\",\"pickup_longitude\",\"pickup_latitude\",\"dropoff_longitude\",\"dropoff_latitude\",\"passenger_count\"]"
   ]
  },
  {
   "cell_type": "code",
   "execution_count": 10,
   "id": "95b02756",
   "metadata": {},
   "outputs": [],
   "source": [
    "df.columns = column_list"
   ]
  },
  {
   "cell_type": "code",
   "execution_count": 11,
   "id": "6221501c",
   "metadata": {},
   "outputs": [
    {
     "data": {
      "text/html": [
       "<div>\n",
       "<style scoped>\n",
       "    .dataframe tbody tr th:only-of-type {\n",
       "        vertical-align: middle;\n",
       "    }\n",
       "\n",
       "    .dataframe tbody tr th {\n",
       "        vertical-align: top;\n",
       "    }\n",
       "\n",
       "    .dataframe thead th {\n",
       "        text-align: right;\n",
       "    }\n",
       "</style>\n",
       "<table border=\"1\" class=\"dataframe\">\n",
       "  <thead>\n",
       "    <tr style=\"text-align: right;\">\n",
       "      <th></th>\n",
       "      <th>key</th>\n",
       "      <th>fare_amount</th>\n",
       "      <th>pickup_datetime</th>\n",
       "      <th>pickup_longitude</th>\n",
       "      <th>pickup_latitude</th>\n",
       "      <th>dropoff_longitude</th>\n",
       "      <th>dropoff_latitude</th>\n",
       "      <th>passenger_count</th>\n",
       "    </tr>\n",
       "  </thead>\n",
       "  <tbody>\n",
       "    <tr>\n",
       "      <th>0</th>\n",
       "      <td>2009-01-09 16:10:00.000000170</td>\n",
       "      <td>31.9</td>\n",
       "      <td>2009-01-09 16:10:00 UTC</td>\n",
       "      <td>-73.873027</td>\n",
       "      <td>40.773883</td>\n",
       "      <td>-73.984545</td>\n",
       "      <td>40.769545</td>\n",
       "      <td>3</td>\n",
       "    </tr>\n",
       "    <tr>\n",
       "      <th>1</th>\n",
       "      <td>2009-01-09 15:01:20.0000002</td>\n",
       "      <td>5.7</td>\n",
       "      <td>2009-01-09 15:01:20 UTC</td>\n",
       "      <td>-73.992826</td>\n",
       "      <td>40.751271</td>\n",
       "      <td>-73.982786</td>\n",
       "      <td>40.742432</td>\n",
       "      <td>1</td>\n",
       "    </tr>\n",
       "    <tr>\n",
       "      <th>2</th>\n",
       "      <td>2009-01-25 18:41:00.000000193</td>\n",
       "      <td>6.1</td>\n",
       "      <td>2009-01-25 18:41:00 UTC</td>\n",
       "      <td>-74.000122</td>\n",
       "      <td>40.74308</td>\n",
       "      <td>-74.00615</td>\n",
       "      <td>40.734233</td>\n",
       "      <td>5</td>\n",
       "    </tr>\n",
       "    <tr>\n",
       "      <th>3</th>\n",
       "      <td>2009-01-16 21:10:00.00000056</td>\n",
       "      <td>4.5</td>\n",
       "      <td>2009-01-16 21:10:00 UTC</td>\n",
       "      <td>-73.994143</td>\n",
       "      <td>40.751193</td>\n",
       "      <td>-73.988897</td>\n",
       "      <td>40.759742</td>\n",
       "      <td>1</td>\n",
       "    </tr>\n",
       "    <tr>\n",
       "      <th>4</th>\n",
       "      <td>2009-01-24 09:51:00.000000115</td>\n",
       "      <td>5.3</td>\n",
       "      <td>2009-01-24 09:51:00 UTC</td>\n",
       "      <td>-73.96707</td>\n",
       "      <td>40.769178</td>\n",
       "      <td>-73.954895</td>\n",
       "      <td>40.77821</td>\n",
       "      <td>1</td>\n",
       "    </tr>\n",
       "    <tr>\n",
       "      <th>...</th>\n",
       "      <td>...</td>\n",
       "      <td>...</td>\n",
       "      <td>...</td>\n",
       "      <td>...</td>\n",
       "      <td>...</td>\n",
       "      <td>...</td>\n",
       "      <td>...</td>\n",
       "      <td>...</td>\n",
       "    </tr>\n",
       "    <tr>\n",
       "      <th>9995</th>\n",
       "      <td>2009-01-17 20:55:10.0000001</td>\n",
       "      <td>7</td>\n",
       "      <td>2009-01-17 20:55:10 UTC</td>\n",
       "      <td>-73.97774</td>\n",
       "      <td>40.742199</td>\n",
       "      <td>-73.985564</td>\n",
       "      <td>40.727682</td>\n",
       "      <td>1</td>\n",
       "    </tr>\n",
       "    <tr>\n",
       "      <th>9996</th>\n",
       "      <td>2009-01-31 20:51:02.0000001</td>\n",
       "      <td>7.4</td>\n",
       "      <td>2009-01-31 20:51:02 UTC</td>\n",
       "      <td>-74.004458</td>\n",
       "      <td>40.730884</td>\n",
       "      <td>-73.989787</td>\n",
       "      <td>40.726328</td>\n",
       "      <td>3</td>\n",
       "    </tr>\n",
       "    <tr>\n",
       "      <th>9997</th>\n",
       "      <td>2009-01-02 15:30:17.0000002</td>\n",
       "      <td>7.3</td>\n",
       "      <td>2009-01-02 15:30:17 UTC</td>\n",
       "      <td>-73.952631</td>\n",
       "      <td>40.7691</td>\n",
       "      <td>-73.952631</td>\n",
       "      <td>40.7691</td>\n",
       "      <td>2</td>\n",
       "    </tr>\n",
       "    <tr>\n",
       "      <th>9998</th>\n",
       "      <td>2009-01-10 20:03:00.00000070</td>\n",
       "      <td>5.7</td>\n",
       "      <td>2009-01-10 20:03:00 UTC</td>\n",
       "      <td>-73.990442</td>\n",
       "      <td>40.740327</td>\n",
       "      <td>-73.98598</td>\n",
       "      <td>40.72956</td>\n",
       "      <td>2</td>\n",
       "    </tr>\n",
       "    <tr>\n",
       "      <th>9999</th>\n",
       "      <td>2009-01-06 17:55:50.0000004</td>\n",
       "      <td>6.7</td>\n",
       "      <td>2009-01-06 17:55:50 UTC</td>\n",
       "      <td>-73.995134</td>\n",
       "      <td>40.725105</td>\n",
       "      <td>-73.983359</td>\n",
       "      <td>40.731739</td>\n",
       "      <td>1</td>\n",
       "    </tr>\n",
       "  </tbody>\n",
       "</table>\n",
       "<p>10000 rows × 8 columns</p>\n",
       "</div>"
      ],
      "text/plain": [
       "                                key fare_amount          pickup_datetime  \\\n",
       "0     2009-01-09 16:10:00.000000170        31.9  2009-01-09 16:10:00 UTC   \n",
       "1       2009-01-09 15:01:20.0000002         5.7  2009-01-09 15:01:20 UTC   \n",
       "2     2009-01-25 18:41:00.000000193         6.1  2009-01-25 18:41:00 UTC   \n",
       "3      2009-01-16 21:10:00.00000056         4.5  2009-01-16 21:10:00 UTC   \n",
       "4     2009-01-24 09:51:00.000000115         5.3  2009-01-24 09:51:00 UTC   \n",
       "...                             ...         ...                      ...   \n",
       "9995    2009-01-17 20:55:10.0000001           7  2009-01-17 20:55:10 UTC   \n",
       "9996    2009-01-31 20:51:02.0000001         7.4  2009-01-31 20:51:02 UTC   \n",
       "9997    2009-01-02 15:30:17.0000002         7.3  2009-01-02 15:30:17 UTC   \n",
       "9998   2009-01-10 20:03:00.00000070         5.7  2009-01-10 20:03:00 UTC   \n",
       "9999    2009-01-06 17:55:50.0000004         6.7  2009-01-06 17:55:50 UTC   \n",
       "\n",
       "     pickup_longitude pickup_latitude dropoff_longitude dropoff_latitude  \\\n",
       "0          -73.873027       40.773883        -73.984545        40.769545   \n",
       "1          -73.992826       40.751271        -73.982786        40.742432   \n",
       "2          -74.000122        40.74308         -74.00615        40.734233   \n",
       "3          -73.994143       40.751193        -73.988897        40.759742   \n",
       "4           -73.96707       40.769178        -73.954895         40.77821   \n",
       "...               ...             ...               ...              ...   \n",
       "9995        -73.97774       40.742199        -73.985564        40.727682   \n",
       "9996       -74.004458       40.730884        -73.989787        40.726328   \n",
       "9997       -73.952631         40.7691        -73.952631          40.7691   \n",
       "9998       -73.990442       40.740327         -73.98598         40.72956   \n",
       "9999       -73.995134       40.725105        -73.983359        40.731739   \n",
       "\n",
       "     passenger_count  \n",
       "0                  3  \n",
       "1                  1  \n",
       "2                  5  \n",
       "3                  1  \n",
       "4                  1  \n",
       "...              ...  \n",
       "9995               1  \n",
       "9996               3  \n",
       "9997               2  \n",
       "9998               2  \n",
       "9999               1  \n",
       "\n",
       "[10000 rows x 8 columns]"
      ]
     },
     "execution_count": 11,
     "metadata": {},
     "output_type": "execute_result"
    }
   ],
   "source": [
    "df"
   ]
  },
  {
   "cell_type": "code",
   "execution_count": 12,
   "id": "7ac58838",
   "metadata": {},
   "outputs": [
    {
     "data": {
      "text/html": [
       "<div>\n",
       "<style scoped>\n",
       "    .dataframe tbody tr th:only-of-type {\n",
       "        vertical-align: middle;\n",
       "    }\n",
       "\n",
       "    .dataframe tbody tr th {\n",
       "        vertical-align: top;\n",
       "    }\n",
       "\n",
       "    .dataframe thead th {\n",
       "        text-align: right;\n",
       "    }\n",
       "</style>\n",
       "<table border=\"1\" class=\"dataframe\">\n",
       "  <thead>\n",
       "    <tr style=\"text-align: right;\">\n",
       "      <th></th>\n",
       "      <th>key</th>\n",
       "      <th>fare_amount</th>\n",
       "      <th>pickup_datetime</th>\n",
       "      <th>pickup_longitude</th>\n",
       "      <th>pickup_latitude</th>\n",
       "      <th>dropoff_longitude</th>\n",
       "      <th>dropoff_latitude</th>\n",
       "      <th>passenger_count</th>\n",
       "    </tr>\n",
       "  </thead>\n",
       "  <tbody>\n",
       "    <tr>\n",
       "      <th>count</th>\n",
       "      <td>10000</td>\n",
       "      <td>10000</td>\n",
       "      <td>10000</td>\n",
       "      <td>10000</td>\n",
       "      <td>10000</td>\n",
       "      <td>10000</td>\n",
       "      <td>10000</td>\n",
       "      <td>10000</td>\n",
       "    </tr>\n",
       "    <tr>\n",
       "      <th>unique</th>\n",
       "      <td>10000</td>\n",
       "      <td>373</td>\n",
       "      <td>8909</td>\n",
       "      <td>8975</td>\n",
       "      <td>9114</td>\n",
       "      <td>8988</td>\n",
       "      <td>9186</td>\n",
       "      <td>6</td>\n",
       "    </tr>\n",
       "    <tr>\n",
       "      <th>top</th>\n",
       "      <td>2009-01-09 16:10:00.000000170</td>\n",
       "      <td>5.3</td>\n",
       "      <td>2009-01-15 12:47:00 UTC</td>\n",
       "      <td>0</td>\n",
       "      <td>0</td>\n",
       "      <td>0</td>\n",
       "      <td>0</td>\n",
       "      <td>1</td>\n",
       "    </tr>\n",
       "    <tr>\n",
       "      <th>freq</th>\n",
       "      <td>1</td>\n",
       "      <td>483</td>\n",
       "      <td>6</td>\n",
       "      <td>151</td>\n",
       "      <td>151</td>\n",
       "      <td>147</td>\n",
       "      <td>147</td>\n",
       "      <td>6737</td>\n",
       "    </tr>\n",
       "  </tbody>\n",
       "</table>\n",
       "</div>"
      ],
      "text/plain": [
       "                                  key fare_amount          pickup_datetime  \\\n",
       "count                           10000       10000                    10000   \n",
       "unique                          10000         373                     8909   \n",
       "top     2009-01-09 16:10:00.000000170         5.3  2009-01-15 12:47:00 UTC   \n",
       "freq                                1         483                        6   \n",
       "\n",
       "       pickup_longitude pickup_latitude dropoff_longitude dropoff_latitude  \\\n",
       "count             10000           10000             10000            10000   \n",
       "unique             8975            9114              8988             9186   \n",
       "top                   0               0                 0                0   \n",
       "freq                151             151               147              147   \n",
       "\n",
       "       passenger_count  \n",
       "count            10000  \n",
       "unique               6  \n",
       "top                  1  \n",
       "freq              6737  "
      ]
     },
     "execution_count": 12,
     "metadata": {},
     "output_type": "execute_result"
    }
   ],
   "source": [
    "df.describe()"
   ]
  },
  {
   "cell_type": "code",
   "execution_count": 13,
   "id": "15f78bb1",
   "metadata": {},
   "outputs": [
    {
     "name": "stdout",
     "output_type": "stream",
     "text": [
      "(10000, 8)\n"
     ]
    }
   ],
   "source": [
    "#check 결측치\n",
    "df.isnull().sum().sort_values(ascending=False)\n",
    "print(df.shape)"
   ]
  },
  {
   "cell_type": "code",
   "execution_count": 14,
   "id": "9f896acb",
   "metadata": {},
   "outputs": [
    {
     "name": "stderr",
     "output_type": "stream",
     "text": [
      "/tmp/ipykernel_296971/2820316284.py:2: FutureWarning: In a future version of pandas all arguments of DataFrame.any and Series.any will be keyword-only.\n",
      "  df = df.drop(df[df.isnull().any(1)].index, axis = 0)\n"
     ]
    }
   ],
   "source": [
    "#drop 결측치\n",
    "df = df.drop(df[df.isnull().any(1)].index, axis = 0)"
   ]
  },
  {
   "cell_type": "code",
   "execution_count": 15,
   "id": "0926847d",
   "metadata": {},
   "outputs": [],
   "source": [
    "df['key'] = pd.to_datetime(df['key'])\n",
    "df['pickup_datetime']  = pd.to_datetime(df['pickup_datetime'])"
   ]
  },
  {
   "cell_type": "code",
   "execution_count": 16,
   "id": "bfd1ee29",
   "metadata": {},
   "outputs": [],
   "source": [
    "df = df.astype({'fare_amount':'float',\n",
    "              'pickup_longitude':'float',\n",
    "              'pickup_latitude':'float',\n",
    "              'dropoff_longitude':'float',\n",
    "              'dropoff_latitude':'float',\n",
    "              'passenger_count':'int'},)"
   ]
  },
  {
   "cell_type": "code",
   "execution_count": 17,
   "id": "f970312d",
   "metadata": {
    "scrolled": true
   },
   "outputs": [
    {
     "name": "stdout",
     "output_type": "stream",
     "text": [
      "<class 'pandas.core.frame.DataFrame'>\n",
      "RangeIndex: 10000 entries, 0 to 9999\n",
      "Data columns (total 8 columns):\n",
      " #   Column             Non-Null Count  Dtype              \n",
      "---  ------             --------------  -----              \n",
      " 0   key                10000 non-null  datetime64[ns]     \n",
      " 1   fare_amount        10000 non-null  float64            \n",
      " 2   pickup_datetime    10000 non-null  datetime64[ns, UTC]\n",
      " 3   pickup_longitude   10000 non-null  float64            \n",
      " 4   pickup_latitude    10000 non-null  float64            \n",
      " 5   dropoff_longitude  10000 non-null  float64            \n",
      " 6   dropoff_latitude   10000 non-null  float64            \n",
      " 7   passenger_count    10000 non-null  int64              \n",
      "dtypes: datetime64[ns, UTC](1), datetime64[ns](1), float64(5), int64(1)\n",
      "memory usage: 625.1 KB\n"
     ]
    }
   ],
   "source": [
    "df.info()"
   ]
  },
  {
   "cell_type": "code",
   "execution_count": 18,
   "id": "707c54f7",
   "metadata": {},
   "outputs": [],
   "source": [
    "# #fare_amount값이 0인 경우를 찾기 :2가지\n",
    "# from collections import Counter\n",
    "# Counter(df['fare_amount']<0)"
   ]
  },
  {
   "cell_type": "code",
   "execution_count": 19,
   "id": "2780f543",
   "metadata": {},
   "outputs": [
    {
     "data": {
      "text/plain": [
       "(10000, 8)"
      ]
     },
     "execution_count": 19,
     "metadata": {},
     "output_type": "execute_result"
    }
   ],
   "source": [
    "#drop fare_amount가 0인경우 (요금이 0이 나온경우는 제거)\n",
    "df = df.drop(df[df['fare_amount']<0].index, axis=0)\n",
    "df.shape"
   ]
  },
  {
   "cell_type": "code",
   "execution_count": 20,
   "id": "13270694",
   "metadata": {},
   "outputs": [
    {
     "data": {
      "text/plain": [
       "Text(0, 0.5, 'Frequency')"
      ]
     },
     "execution_count": 20,
     "metadata": {},
     "output_type": "execute_result"
    },
    {
     "data": {
      "image/png": "[encoded data removed]",
      "text/plain": [
       "<Figure size 1500x700 with 1 Axes>"
      ]
     },
     "metadata": {},
     "output_type": "display_data"
    }
   ],
   "source": [
    "plt.figure(figsize=(15,7))\n",
    "plt.hist(df['passenger_count'], bins=15)\n",
    "plt.xlabel('No. of Passengers')\n",
    "plt.ylabel('Frequency')"
   ]
  },
  {
   "cell_type": "code",
   "execution_count": 21,
   "id": "a5dcc626",
   "metadata": {},
   "outputs": [],
   "source": [
    "df.to_csv('s3://team07-data/SPARK-ETL/pyspark_ETL.csv', index=False) #aws의 s3 저장소로 업로드"
   ]
  },
  {
   "cell_type": "code",
   "execution_count": null,
   "id": "5eafae51",
   "metadata": {},
   "outputs": [],
   "source": []
  }
 ],
 "metadata": {
  "kernelspec": {
   "display_name": "Python 3 (ipykernel)",
   "language": "python",
   "name": "python3"
  },
  "language_info": {
   "codemirror_mode": {
    "name": "ipython",
    "version": 3
   },
   "file_extension": ".py",
   "mimetype": "text/x-python",
   "name": "python",
   "nbconvert_exporter": "python",
   "pygments_lexer": "ipython3",
   "version": "3.8.10"
  }
 },
 "nbformat": 4,
 "nbformat_minor": 5
}
